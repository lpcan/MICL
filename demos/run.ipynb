{
 "cells": [
  {
   "cell_type": "markdown",
   "metadata": {},
   "source": [
    "### An example of how to run the finetuned model on new data"
   ]
  },
  {
   "cell_type": "markdown",
   "metadata": {},
   "source": [
    "Download the finetuned model checkpoint `checkpoint-finetuned.zip` from [here](https://zenodo.org/records/13677353) and extract the checkpoint files."
   ]
  },
  {
   "cell_type": "markdown",
   "metadata": {},
   "source": [
    "Prepare your data as a numpy array. The model will accept a batch of images of shape (N, 224, 224, 1), where N is the number of images in the batch, and the images are clipped and arcsinh stretched. Below, my images are in a HDF5 file, but you can update this as necessary for different data."
   ]
  },
  {
   "cell_type": "code",
   "execution_count": 9,
   "metadata": {},
   "outputs": [],
   "source": [
    "import h5py\n",
    "import numpy as np\n",
    "import skimage"
   ]
  },
  {
   "cell_type": "code",
   "execution_count": 10,
   "metadata": {},
   "outputs": [],
   "source": [
    "cutouts = h5py.File('example_data.hdf')\n",
    "images = []\n",
    "\n",
    "for key in cutouts.keys():\n",
    "    cutout = np.array(cutouts[key]['DATA'])\n",
    "    mask = np.array(cutouts[key]['MASK']).astype(int) & (1 | (1 << 8) | (1 << 9))\n",
    "\n",
    "    # Resize to (224, 224)\n",
    "    mask = skimage.transform.resize(mask, (224,224))\n",
    "    img = skimage.transform.resize(cutout, (224,224))\n",
    "\n",
    "    # Scale the images and apply the mask\n",
    "    img = np.clip(img, a_min=0, a_max=10)\n",
    "    img = np.arcsinh(img / 0.017359) \n",
    "    img = img * ~(mask > 0)\n",
    "\n",
    "    # Place into array\n",
    "    img = np.expand_dims(img, -1) # Reshape the array to (224, 224, 1)\n",
    "    images.append(img)\n",
    "\n",
    "data = np.array(images) "
   ]
  },
  {
   "cell_type": "markdown",
   "metadata": {},
   "source": [
    "Create the model and load the finetuned weights. By default this function will look for the checkpoint data in the `./checkpoints/` folder. We load the validation version of the model, which does not include any random augmentations. Predictions should not change qualitatively with the other version, but this way they will be identical each time."
   ]
  },
  {
   "cell_type": "code",
   "execution_count": 11,
   "metadata": {},
   "outputs": [],
   "source": [
    "import sys\n",
    "sys.path.append('..') # Hacky way to be able to import files from parent directory\n",
    "\n",
    "from model import load_val_model"
   ]
  },
  {
   "cell_type": "code",
   "execution_count": 12,
   "metadata": {},
   "outputs": [],
   "source": [
    "model = load_val_model(model_name='checkpoint-finetuned', model_path_prefix='../checkpoints/')"
   ]
  },
  {
   "cell_type": "markdown",
   "metadata": {},
   "source": [
    "Run the model on the images, which gives an array of Tensorflow Probability distributions."
   ]
  },
  {
   "cell_type": "code",
   "execution_count": 13,
   "metadata": {},
   "outputs": [
    {
     "name": "stderr",
     "output_type": "stream",
     "text": [
      "2024-09-27 10:54:21.319866: I tensorflow/core/common_runtime/executor.cc:1197] [/device:CPU:0] (DEBUG INFO) Executor start aborting (this does not indicate an error and you can ignore this message): INVALID_ARGUMENT: You must feed a value for placeholder tensor 'shape' with dtype int32 and shape [4]\n",
      "\t [[{{node shape}}]]\n",
      "2024-09-27 10:54:21.320911: I tensorflow/core/common_runtime/executor.cc:1197] [/device:CPU:0] (DEBUG INFO) Executor start aborting (this does not indicate an error and you can ignore this message): INVALID_ARGUMENT: You must feed a value for placeholder tensor 'shape' with dtype int32 and shape [4]\n",
      "\t [[{{node shape}}]]\n",
      "2024-09-27 10:54:21.352194: I tensorflow/core/common_runtime/executor.cc:1197] [/device:CPU:0] (DEBUG INFO) Executor start aborting (this does not indicate an error and you can ignore this message): INVALID_ARGUMENT: You must feed a value for placeholder tensor 'shape' with dtype int32 and shape [4]\n",
      "\t [[{{node shape}}]]\n",
      "2024-09-27 10:54:21.352355: I tensorflow/core/common_runtime/executor.cc:1197] [/device:CPU:0] (DEBUG INFO) Executor start aborting (this does not indicate an error and you can ignore this message): INVALID_ARGUMENT: You must feed a value for placeholder tensor 'shape' with dtype int32 and shape [4]\n",
      "\t [[{{node shape}}]]\n",
      "2024-09-27 10:54:21.456967: I tensorflow/core/common_runtime/executor.cc:1197] [/device:CPU:0] (DEBUG INFO) Executor start aborting (this does not indicate an error and you can ignore this message): INVALID_ARGUMENT: You must feed a value for placeholder tensor 'batched_las_vegas_algorithm/while/normal/stateless_random_normal/StatelessRandomNormalV2/shape' with dtype int32 and shape [4]\n",
      "\t [[{{node batched_las_vegas_algorithm/while/normal/stateless_random_normal/StatelessRandomNormalV2/shape}}]]\n",
      "2024-09-27 10:54:21.457770: I tensorflow/core/common_runtime/executor.cc:1197] [/device:CPU:0] (DEBUG INFO) Executor start aborting (this does not indicate an error and you can ignore this message): INVALID_ARGUMENT: You must feed a value for placeholder tensor 'batched_las_vegas_algorithm/while/normal/stateless_random_normal/StatelessRandomNormalV2/shape' with dtype int32 and shape [4]\n",
      "\t [[{{node batched_las_vegas_algorithm/while/normal/stateless_random_normal/StatelessRandomNormalV2/shape}}]]\n",
      "2024-09-27 10:54:21.505204: I tensorflow/core/common_runtime/executor.cc:1197] [/device:CPU:0] (DEBUG INFO) Executor start aborting (this does not indicate an error and you can ignore this message): INVALID_ARGUMENT: You must feed a value for placeholder tensor 'batched_las_vegas_algorithm/while/normal/stateless_random_normal/StatelessRandomNormalV2/shape' with dtype int32 and shape [4]\n",
      "\t [[{{node batched_las_vegas_algorithm/while/normal/stateless_random_normal/StatelessRandomNormalV2/shape}}]]\n",
      "2024-09-27 10:54:21.505484: I tensorflow/core/common_runtime/executor.cc:1197] [/device:CPU:0] (DEBUG INFO) Executor start aborting (this does not indicate an error and you can ignore this message): INVALID_ARGUMENT: You must feed a value for placeholder tensor 'batched_las_vegas_algorithm/while/normal/stateless_random_normal/StatelessRandomNormalV2/shape' with dtype int32 and shape [4]\n",
      "\t [[{{node batched_las_vegas_algorithm/while/normal/stateless_random_normal/StatelessRandomNormalV2/shape}}]]\n",
      "2024-09-27 10:54:21.722807: I tensorflow/core/common_runtime/executor.cc:1197] [/device:CPU:0] (DEBUG INFO) Executor start aborting (this does not indicate an error and you can ignore this message): INVALID_ARGUMENT: You must feed a value for placeholder tensor 'shape' with dtype int32 and shape [4]\n",
      "\t [[{{node shape}}]]\n",
      "2024-09-27 10:54:21.723607: I tensorflow/core/common_runtime/executor.cc:1197] [/device:CPU:0] (DEBUG INFO) Executor start aborting (this does not indicate an error and you can ignore this message): INVALID_ARGUMENT: You must feed a value for placeholder tensor 'shape' with dtype int32 and shape [4]\n",
      "\t [[{{node shape}}]]\n",
      "2024-09-27 10:54:21.849271: I tensorflow/core/common_runtime/executor.cc:1197] [/device:CPU:0] (DEBUG INFO) Executor start aborting (this does not indicate an error and you can ignore this message): INVALID_ARGUMENT: You must feed a value for placeholder tensor 'shape' with dtype int32 and shape [4]\n",
      "\t [[{{node shape}}]]\n",
      "2024-09-27 10:54:21.989065: I tensorflow/core/common_runtime/executor.cc:1197] [/device:CPU:0] (DEBUG INFO) Executor start aborting (this does not indicate an error and you can ignore this message): INVALID_ARGUMENT: You must feed a value for placeholder tensor 'shape' with dtype int32 and shape [4]\n",
      "\t [[{{node shape}}]]\n",
      "2024-09-27 10:54:21.999304: I tensorflow/core/common_runtime/executor.cc:1197] [/device:CPU:0] (DEBUG INFO) Executor start aborting (this does not indicate an error and you can ignore this message): INVALID_ARGUMENT: You must feed a value for placeholder tensor 'shape' with dtype int32 and shape [4]\n",
      "\t [[{{node shape}}]]\n",
      "2024-09-27 10:54:22.040381: I tensorflow/core/common_runtime/executor.cc:1197] [/device:CPU:0] (DEBUG INFO) Executor start aborting (this does not indicate an error and you can ignore this message): INVALID_ARGUMENT: You must feed a value for placeholder tensor 'shape' with dtype int32 and shape [4]\n",
      "\t [[{{node shape}}]]\n",
      "2024-09-27 10:54:22.043556: I tensorflow/core/common_runtime/executor.cc:1197] [/device:CPU:0] (DEBUG INFO) Executor start aborting (this does not indicate an error and you can ignore this message): INVALID_ARGUMENT: You must feed a value for placeholder tensor 'shape' with dtype int32 and shape [4]\n",
      "\t [[{{node shape}}]]\n"
     ]
    }
   ],
   "source": [
    "outputs = model(data)"
   ]
  },
  {
   "cell_type": "code",
   "execution_count": 14,
   "metadata": {},
   "outputs": [
    {
     "name": "stdout",
     "output_type": "stream",
     "text": [
      "tfp.distributions._TensorCoercible(\"tensor_coercible\", batch_shape=[5], event_shape=[1], dtype=float32)\n"
     ]
    }
   ],
   "source": [
    "print(outputs)"
   ]
  },
  {
   "cell_type": "markdown",
   "metadata": {},
   "source": [
    "To get the actual model predictions, we find the peak of the probability distirbution, and also use the CDFs to get uncertainties on the predictions."
   ]
  },
  {
   "cell_type": "code",
   "execution_count": 15,
   "metadata": {},
   "outputs": [
    {
     "name": "stdout",
     "output_type": "stream",
     "text": [
      "Mean prediction is 0.057257257257257256\n"
     ]
    }
   ],
   "source": [
    "x = np.linspace(0, 1, 1000) # Need to define where we evaluate all the distributions\n",
    "dists = outputs.distribution.prob(x) # Get all the output probability distributions as arrays\n",
    "predictions = x[np.argmax(dists, axis=1)] # Find the peaks of the distributions\n",
    "cdfs = outputs.distribution.cdf(x) # Get the CDFs\n",
    "\n",
    "# Get the 15 and 85 percentile uncertainties\n",
    "q15s = np.argmax(cdfs >= 0.15, axis=1)\n",
    "q85s = np.argmax(cdfs >= 0.85, axis=1)\n",
    "lower_errors = np.abs(predictions - x[q15s])\n",
    "upper_errors = np.abs(x[q85s] - predictions)\n",
    "\n",
    "print(f'Mean prediction is {np.mean(predictions)}')"
   ]
  },
  {
   "cell_type": "markdown",
   "metadata": {},
   "source": [
    "We can look at one of the output distributions as an example."
   ]
  },
  {
   "cell_type": "code",
   "execution_count": 16,
   "metadata": {},
   "outputs": [
    {
     "data": {
      "image/png": "[encoded data removed]",
      "text/plain": [
       "<Figure size 640x480 with 1 Axes>"
      ]
     },
     "metadata": {},
     "output_type": "display_data"
    }
   ],
   "source": [
    "import matplotlib.pyplot as plt\n",
    "\n",
    "# Display one of the output distributions\n",
    "example_dist = dists[0]\n",
    "prediction = predictions[0]\n",
    "q15 = q15s[0]\n",
    "q85 = q85s[0]\n",
    "\n",
    "plt.plot(x, example_dist)\n",
    "plt.axvline(prediction, c='purple', linestyle='--')\n",
    "plt.fill_between([x[q15], x[q85]], min(example_dist), max(example_dist), facecolor='gray', alpha=0.2)\n",
    "plt.xlim(0, 0.2)\n",
    "plt.ylim(0, max(example_dist) + 1)\n",
    "plt.xlabel('ICL fraction')\n",
    "plt.ylabel('Probability density')\n",
    "plt.legend(['Distribution', 'Prediction', '15-85 percentile uncertainty'])\n",
    "plt.title('Prediction:'+str(round(prediction,3))+'$^{+'+str(round(upper_errors[0], 3))+'}_{-'+str(round(lower_errors[0],3))+'}$')\n",
    "plt.show()"
   ]
  },
  {
   "cell_type": "code",
   "execution_count": null,
   "metadata": {},
   "outputs": [],
   "source": []
  }
 ],
 "metadata": {
  "kernelspec": {
   "display_name": "base",
   "language": "python",
   "name": "python3"
  },
  "language_info": {
   "codemirror_mode": {
    "name": "ipython",
    "version": 3
   },
   "file_extension": ".py",
   "mimetype": "text/x-python",
   "name": "python",
   "nbconvert_exporter": "python",
   "pygments_lexer": "ipython3",
   "version": "3.10.9"
  }
 },
 "nbformat": 4,
 "nbformat_minor": 2
}
