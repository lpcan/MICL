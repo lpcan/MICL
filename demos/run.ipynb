{
 "cells": [
  {
   "cell_type": "markdown",
   "metadata": {},
   "source": [
    "### An example of how to run the finetuned model on new data"
   ]
  },
  {
   "cell_type": "markdown",
   "metadata": {},
   "source": [
    "Download the finetuned model checkpoint `checkpoint-finetuned.zip` from TODO ADD LINK and extract the checkpoint files."
   ]
  },
  {
   "cell_type": "markdown",
   "metadata": {},
   "source": [
    "Prepare your data as a numpy array. The model will accept a batch of images of shape (N, 224, 224, 1), where N is the number of images in the batch, and the images are clipped and arcsinh stretched. Below, my images are in a HDF5 file, but you can update this as necessary for different data."
   ]
  },
  {
   "cell_type": "code",
   "execution_count": 1,
   "metadata": {},
   "outputs": [],
   "source": [
    "import h5py\n",
    "import numpy as np\n",
    "import skimage"
   ]
  },
  {
   "cell_type": "code",
   "execution_count": 2,
   "metadata": {},
   "outputs": [],
   "source": [
    "cutouts = h5py.File('example_data.hdf')\n",
    "images = []\n",
    "\n",
    "for key in cutouts.keys():\n",
    "    cutout = np.array(cutouts[key]['DATA'])\n",
    "    mask = np.array(cutouts[key]['MASK']).astype(int) & (1 | (1 << 8) | (1 << 9))\n",
    "\n",
    "    # Resize to (224, 224)\n",
    "    mask = skimage.transform.resize(mask, (224,224))\n",
    "    img = skimage.transform.resize(cutout, (224,224))\n",
    "\n",
    "    # Scale the images and apply the mask\n",
    "    img = np.clip(img, a_min=0, a_max=10)\n",
    "    img = np.arcsinh(img / 0.017359) \n",
    "    img = img * ~(mask > 0)\n",
    "\n",
    "    # Place into array\n",
    "    img = np.expand_dims(img, -1) # Reshape the array to (224, 224, 1)\n",
    "    images.append(img)\n",
    "\n",
    "data = np.array(images) "
   ]
  },
  {
   "cell_type": "markdown",
   "metadata": {},
   "source": [
    "Create the model and load the finetuned weights. By default this function will look for the checkpoint data in the `./checkpoints/` folder. We load the validation version of the model, which does not include any random augmentations. Predictions should not change qualitatively with the other version, but this way they will be identical each time."
   ]
  },
  {
   "cell_type": "code",
   "execution_count": 3,
   "metadata": {},
   "outputs": [
    {
     "name": "stderr",
     "output_type": "stream",
     "text": [
      "2024-09-27 10:35:44.096976: I tensorflow/core/platform/cpu_feature_guard.cc:182] This TensorFlow binary is optimized to use available CPU instructions in performance-critical operations.\n",
      "To enable the following instructions: AVX2 FMA, in other operations, rebuild TensorFlow with the appropriate compiler flags.\n"
     ]
    }
   ],
   "source": [
    "import sys\n",
    "sys.path.append('..') # Hacky way to be able to import files from parent directory\n",
    "\n",
    "from model import load_val_model"
   ]
  },
  {
   "cell_type": "code",
   "execution_count": 4,
   "metadata": {},
   "outputs": [],
   "source": [
    "model = load_val_model(model_name='checkpoint-finetuned', model_path_prefix='../checkpoints/')"
   ]
  },
  {
   "cell_type": "markdown",
   "metadata": {},
   "source": [
    "Run the model on the images, which gives an array of Tensorflow Probability distributions."
   ]
  },
  {
   "cell_type": "code",
   "execution_count": 5,
   "metadata": {},
   "outputs": [
    {
     "name": "stderr",
     "output_type": "stream",
     "text": [
      "2024-09-27 10:38:14.938099: I tensorflow/core/common_runtime/executor.cc:1197] [/device:CPU:0] (DEBUG INFO) Executor start aborting (this does not indicate an error and you can ignore this message): INVALID_ARGUMENT: You must feed a value for placeholder tensor 'shape' with dtype int32 and shape [4]\n",
      "\t [[{{node shape}}]]\n",
      "2024-09-27 10:38:14.938321: I tensorflow/core/common_runtime/executor.cc:1197] [/device:CPU:0] (DEBUG INFO) Executor start aborting (this does not indicate an error and you can ignore this message): INVALID_ARGUMENT: You must feed a value for placeholder tensor 'shape' with dtype int32 and shape [4]\n",
      "\t [[{{node shape}}]]\n"
     ]
    },
    {
     "name": "stdout",
     "output_type": "stream",
     "text": [
      "WARNING:tensorflow:From /Users/z5214005/anaconda3/lib/python3.10/site-packages/tensorflow_probability/python/internal/batched_rejection_sampler.py:102: calling while_loop_v2 (from tensorflow.python.ops.control_flow_ops) with back_prop=False is deprecated and will be removed in a future version.\n",
      "Instructions for updating:\n",
      "back_prop=False is deprecated. Consider using tf.stop_gradient instead.\n",
      "Instead of:\n",
      "results = tf.while_loop(c, b, vars, back_prop=False)\n",
      "Use:\n",
      "results = tf.nest.map_structure(tf.stop_gradient, tf.while_loop(c, b, vars))\n"
     ]
    },
    {
     "name": "stderr",
     "output_type": "stream",
     "text": [
      "2024-09-27 10:38:15.237662: I tensorflow/core/common_runtime/executor.cc:1197] [/device:CPU:0] (DEBUG INFO) Executor start aborting (this does not indicate an error and you can ignore this message): INVALID_ARGUMENT: You must feed a value for placeholder tensor 'shape' with dtype int32 and shape [4]\n",
      "\t [[{{node shape}}]]\n",
      "2024-09-27 10:38:15.237902: I tensorflow/core/common_runtime/executor.cc:1197] [/device:CPU:0] (DEBUG INFO) Executor start aborting (this does not indicate an error and you can ignore this message): INVALID_ARGUMENT: You must feed a value for placeholder tensor 'shape' with dtype int32 and shape [4]\n",
      "\t [[{{node shape}}]]\n",
      "2024-09-27 10:38:15.658043: I tensorflow/core/common_runtime/executor.cc:1197] [/device:CPU:0] (DEBUG INFO) Executor start aborting (this does not indicate an error and you can ignore this message): INVALID_ARGUMENT: You must feed a value for placeholder tensor 'batched_las_vegas_algorithm/while/normal/stateless_random_normal/StatelessRandomNormalV2/shape' with dtype int32 and shape [4]\n",
      "\t [[{{node batched_las_vegas_algorithm/while/normal/stateless_random_normal/StatelessRandomNormalV2/shape}}]]\n",
      "2024-09-27 10:38:15.658722: I tensorflow/core/common_runtime/executor.cc:1197] [/device:CPU:0] (DEBUG INFO) Executor start aborting (this does not indicate an error and you can ignore this message): INVALID_ARGUMENT: You must feed a value for placeholder tensor 'batched_las_vegas_algorithm/while/normal/stateless_random_normal/StatelessRandomNormalV2/shape' with dtype int32 and shape [4]\n",
      "\t [[{{node batched_las_vegas_algorithm/while/normal/stateless_random_normal/StatelessRandomNormalV2/shape}}]]\n",
      "2024-09-27 10:38:15.754871: I tensorflow/core/common_runtime/executor.cc:1197] [/device:CPU:0] (DEBUG INFO) Executor start aborting (this does not indicate an error and you can ignore this message): INVALID_ARGUMENT: You must feed a value for placeholder tensor 'batched_las_vegas_algorithm/while/normal/stateless_random_normal/StatelessRandomNormalV2/shape' with dtype int32 and shape [4]\n",
      "\t [[{{node batched_las_vegas_algorithm/while/normal/stateless_random_normal/StatelessRandomNormalV2/shape}}]]\n",
      "2024-09-27 10:38:15.755077: I tensorflow/core/common_runtime/executor.cc:1197] [/device:CPU:0] (DEBUG INFO) Executor start aborting (this does not indicate an error and you can ignore this message): INVALID_ARGUMENT: You must feed a value for placeholder tensor 'batched_las_vegas_algorithm/while/normal/stateless_random_normal/StatelessRandomNormalV2/shape' with dtype int32 and shape [4]\n",
      "\t [[{{node batched_las_vegas_algorithm/while/normal/stateless_random_normal/StatelessRandomNormalV2/shape}}]]\n",
      "2024-09-27 10:38:16.426306: I tensorflow/core/common_runtime/executor.cc:1197] [/device:CPU:0] (DEBUG INFO) Executor start aborting (this does not indicate an error and you can ignore this message): INVALID_ARGUMENT: You must feed a value for placeholder tensor 'shape' with dtype int32 and shape [4]\n",
      "\t [[{{node shape}}]]\n",
      "2024-09-27 10:38:16.426552: I tensorflow/core/common_runtime/executor.cc:1197] [/device:CPU:0] (DEBUG INFO) Executor start aborting (this does not indicate an error and you can ignore this message): INVALID_ARGUMENT: You must feed a value for placeholder tensor 'shape' with dtype int32 and shape [4]\n",
      "\t [[{{node shape}}]]\n",
      "2024-09-27 10:38:16.602352: I tensorflow/core/common_runtime/executor.cc:1197] [/device:CPU:0] (DEBUG INFO) Executor start aborting (this does not indicate an error and you can ignore this message): INVALID_ARGUMENT: You must feed a value for placeholder tensor 'shape' with dtype int32 and shape [4]\n",
      "\t [[{{node shape}}]]\n",
      "2024-09-27 10:38:16.748384: I tensorflow/core/common_runtime/executor.cc:1197] [/device:CPU:0] (DEBUG INFO) Executor start aborting (this does not indicate an error and you can ignore this message): INVALID_ARGUMENT: You must feed a value for placeholder tensor 'shape' with dtype int32 and shape [4]\n",
      "\t [[{{node shape}}]]\n",
      "2024-09-27 10:38:16.748955: I tensorflow/core/common_runtime/executor.cc:1197] [/device:CPU:0] (DEBUG INFO) Executor start aborting (this does not indicate an error and you can ignore this message): INVALID_ARGUMENT: You must feed a value for placeholder tensor 'shape' with dtype int32 and shape [4]\n",
      "\t [[{{node shape}}]]\n",
      "2024-09-27 10:38:16.767840: I tensorflow/core/common_runtime/executor.cc:1197] [/device:CPU:0] (DEBUG INFO) Executor start aborting (this does not indicate an error and you can ignore this message): INVALID_ARGUMENT: You must feed a value for placeholder tensor 'shape' with dtype int32 and shape [4]\n",
      "\t [[{{node shape}}]]\n",
      "2024-09-27 10:38:16.768891: I tensorflow/core/common_runtime/executor.cc:1197] [/device:CPU:0] (DEBUG INFO) Executor start aborting (this does not indicate an error and you can ignore this message): INVALID_ARGUMENT: You must feed a value for placeholder tensor 'shape' with dtype int32 and shape [4]\n",
      "\t [[{{node shape}}]]\n"
     ]
    }
   ],
   "source": [
    "outputs = model(data)"
   ]
  },
  {
   "cell_type": "code",
   "execution_count": 6,
   "metadata": {},
   "outputs": [
    {
     "name": "stdout",
     "output_type": "stream",
     "text": [
      "tfp.distributions._TensorCoercible(\"tensor_coercible\", batch_shape=[10], event_shape=[1], dtype=float32)\n"
     ]
    }
   ],
   "source": [
    "print(outputs)"
   ]
  },
  {
   "cell_type": "markdown",
   "metadata": {},
   "source": [
    "To get the actual model predictions, we find the peak of the probability distirbution, and also use the CDFs to get uncertainties on the predictions."
   ]
  },
  {
   "cell_type": "code",
   "execution_count": 7,
   "metadata": {},
   "outputs": [
    {
     "name": "stdout",
     "output_type": "stream",
     "text": [
      "Mean prediction is 0.05745745745745745\n"
     ]
    }
   ],
   "source": [
    "x = np.linspace(0, 1, 1000) # Need to define where we evaluate all the distributions\n",
    "dists = outputs.distribution.prob(x) # Get all the output probability distributions as arrays\n",
    "predictions = x[np.argmax(dists, axis=1)] # Find the peaks of the distributions\n",
    "cdfs = outputs.distribution.cdf(x) # Get the CDFs\n",
    "\n",
    "# Get the 15 and 85 percentile uncertainties\n",
    "q15s = np.argmax(cdfs >= 0.15, axis=1)\n",
    "q85s = np.argmax(cdfs >= 0.85, axis=1)\n",
    "lower_errors = np.abs(predictions - x[q15s])\n",
    "upper_errors = np.abs(x[q85s] - predictions)\n",
    "\n",
    "print(f'Mean prediction is {np.mean(predictions)}')"
   ]
  },
  {
   "cell_type": "markdown",
   "metadata": {},
   "source": [
    "We can look at one of the output distributions as an example."
   ]
  },
  {
   "cell_type": "code",
   "execution_count": 8,
   "metadata": {},
   "outputs": [
    {
     "data": {
      "image/png": "[encoded data removed]",
      "text/plain": [
       "<Figure size 640x480 with 1 Axes>"
      ]
     },
     "metadata": {},
     "output_type": "display_data"
    }
   ],
   "source": [
    "import matplotlib.pyplot as plt\n",
    "\n",
    "# Display one of the output distributions\n",
    "example_dist = dists[0]\n",
    "prediction = predictions[0]\n",
    "q15 = q15s[0]\n",
    "q85 = q85s[0]\n",
    "\n",
    "plt.plot(x, example_dist)\n",
    "plt.axvline(prediction, c='purple', linestyle='--')\n",
    "plt.fill_between([x[q15], x[q85]], min(example_dist), max(example_dist), facecolor='gray', alpha=0.2)\n",
    "plt.xlim(0, 0.2)\n",
    "plt.ylim(0, max(example_dist) + 1)\n",
    "plt.xlabel('ICL fraction')\n",
    "plt.ylabel('Probability density')\n",
    "plt.legend(['Distribution', 'Prediction', '15-85 percentile uncertainty'])\n",
    "plt.title('Prediction:'+str(round(prediction,3))+'$^{+'+str(round(upper_errors[0], 3))+'}_{-'+str(round(lower_errors[0],3))+'}$')\n",
    "plt.show()"
   ]
  },
  {
   "cell_type": "code",
   "execution_count": null,
   "metadata": {},
   "outputs": [],
   "source": []
  }
 ],
 "metadata": {
  "kernelspec": {
   "display_name": "base",
   "language": "python",
   "name": "python3"
  },
  "language_info": {
   "codemirror_mode": {
    "name": "ipython",
    "version": 3
   },
   "file_extension": ".py",
   "mimetype": "text/x-python",
   "name": "python",
   "nbconvert_exporter": "python",
   "pygments_lexer": "ipython3",
   "version": "3.10.9"
  }
 },
 "nbformat": 4,
 "nbformat_minor": 2
}
